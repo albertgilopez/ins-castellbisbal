{
 "cells": [
  {
   "cell_type": "markdown",
   "id": "d31dea65",
   "metadata": {},
   "source": [
    "## ML PROJECTS - PLANTILLA CALIDAD DE DATOS"
   ]
  },
  {
   "cell_type": "markdown",
   "id": "bdeb42e6",
   "metadata": {},
   "source": [
    "**IMPORTANTE**: Recuerda hacer una copia de esta plantilla para no machacar la original."
   ]
  },
  {
   "cell_type": "markdown",
   "id": "swiss-fault",
   "metadata": {},
   "source": [
    "### IMPORTAR PAQUETES"
   ]
  },
  {
   "cell_type": "code",
   "execution_count": 1,
   "id": "adjacent-toddler",
   "metadata": {},
   "outputs": [
    {
     "name": "stderr",
     "output_type": "stream",
     "text": [
      "c:\\Users\\Usuario\\miniconda3\\envs\\ds4b-framework\\Lib\\site-packages\\janitor\\utils.py:84: FutureWarning: PandasArray has been renamed NumpyExtensionArray. Use that instead. This alias will be removed in a future version.\n",
      "  @_expand_grid.register(pd.arrays.PandasArray)\n"
     ]
    }
   ],
   "source": [
    "import numpy as np\n",
    "import pandas as pd\n",
    "from janitor import clean_names\n",
    "\n",
    "# Automcompletar rápido\n",
    "%config IPCompleter.greedy=True"
   ]
  },
  {
   "cell_type": "markdown",
   "id": "graduate-compensation",
   "metadata": {},
   "source": [
    "### IMPORTAR LOS DATOS"
   ]
  },
  {
   "cell_type": "markdown",
   "id": "38bb812b",
   "metadata": {},
   "source": [
    "Sustituir la ruta del proyecto."
   ]
  },
  {
   "cell_type": "code",
   "execution_count": 20,
   "id": "28c63848",
   "metadata": {},
   "outputs": [],
   "source": [
    "ruta_proyecto = \"C:/Users/Usuario/Downloads/DS4B/projects/00_PROYECTO1/\""
   ]
  },
  {
   "cell_type": "markdown",
   "id": "ba473b09",
   "metadata": {},
   "source": [
    "Sustituir el nombre_fichero_datos."
   ]
  },
  {
   "cell_type": "code",
   "execution_count": 21,
   "id": "5d9dc5ea",
   "metadata": {},
   "outputs": [],
   "source": [
    "nombre_fichero_datos = 'muestra.csv'"
   ]
  },
  {
   "cell_type": "markdown",
   "id": "ae75bf0b",
   "metadata": {},
   "source": [
    "Cargar los datos."
   ]
  },
  {
   "cell_type": "code",
   "execution_count": 22,
   "id": "24ff453b",
   "metadata": {},
   "outputs": [
    {
     "data": {
      "text/html": [
       "<div>\n",
       "<style scoped>\n",
       "    .dataframe tbody tr th:only-of-type {\n",
       "        vertical-align: middle;\n",
       "    }\n",
       "\n",
       "    .dataframe tbody tr th {\n",
       "        vertical-align: top;\n",
       "    }\n",
       "\n",
       "    .dataframe thead th {\n",
       "        text-align: right;\n",
       "    }\n",
       "</style>\n",
       "<table border=\"1\" class=\"dataframe\">\n",
       "  <thead>\n",
       "    <tr style=\"text-align: right;\">\n",
       "      <th></th>\n",
       "      <th>Edad</th>\n",
       "      <th>Trabajo</th>\n",
       "      <th>Estado Civil</th>\n",
       "      <th>Fomación</th>\n",
       "      <th>Impago</th>\n",
       "      <th>Prestamo hipotecario</th>\n",
       "      <th>Prestamo Personal</th>\n",
       "      <th>Canal de contacto</th>\n",
       "      <th>Mes</th>\n",
       "      <th>Dia de la semana</th>\n",
       "      <th>num contactos esta campaña</th>\n",
       "      <th>num días último contacto</th>\n",
       "      <th>num contactos otras campañas</th>\n",
       "      <th>resultado campaña anterior</th>\n",
       "      <th>variación tasa empleo</th>\n",
       "      <th>euribor3m</th>\n",
       "      <th>contrata_fondos</th>\n",
       "    </tr>\n",
       "  </thead>\n",
       "  <tbody>\n",
       "    <tr>\n",
       "      <th>32528</th>\n",
       "      <td>37.0</td>\n",
       "      <td>admin.</td>\n",
       "      <td>married</td>\n",
       "      <td>university.degree</td>\n",
       "      <td>no</td>\n",
       "      <td>unknown</td>\n",
       "      <td>unknown</td>\n",
       "      <td>cellular</td>\n",
       "      <td>jun</td>\n",
       "      <td>NaN</td>\n",
       "      <td>1</td>\n",
       "      <td>10</td>\n",
       "      <td>1</td>\n",
       "      <td>success</td>\n",
       "      <td>-17</td>\n",
       "      <td>719</td>\n",
       "      <td>1</td>\n",
       "    </tr>\n",
       "    <tr>\n",
       "      <th>31679</th>\n",
       "      <td>27.0</td>\n",
       "      <td>technician</td>\n",
       "      <td>single</td>\n",
       "      <td>professional.course</td>\n",
       "      <td>no</td>\n",
       "      <td>no</td>\n",
       "      <td>no</td>\n",
       "      <td>cellular</td>\n",
       "      <td>jun</td>\n",
       "      <td>NaN</td>\n",
       "      <td>2</td>\n",
       "      <td>999</td>\n",
       "      <td>0</td>\n",
       "      <td>nonexistent</td>\n",
       "      <td>-17</td>\n",
       "      <td>737</td>\n",
       "      <td>0</td>\n",
       "    </tr>\n",
       "    <tr>\n",
       "      <th>23675</th>\n",
       "      <td>48.0</td>\n",
       "      <td>blue-collar</td>\n",
       "      <td>married</td>\n",
       "      <td>basic.9y</td>\n",
       "      <td>no</td>\n",
       "      <td>no</td>\n",
       "      <td>no</td>\n",
       "      <td>telephone</td>\n",
       "      <td>may</td>\n",
       "      <td>NaN</td>\n",
       "      <td>14</td>\n",
       "      <td>999</td>\n",
       "      <td>0</td>\n",
       "      <td>nonexistent</td>\n",
       "      <td>11</td>\n",
       "      <td>4857</td>\n",
       "      <td>0</td>\n",
       "    </tr>\n",
       "    <tr>\n",
       "      <th>29498</th>\n",
       "      <td>30.0</td>\n",
       "      <td>blue-collar</td>\n",
       "      <td>married</td>\n",
       "      <td>basic.4y</td>\n",
       "      <td>no</td>\n",
       "      <td>yes</td>\n",
       "      <td>no</td>\n",
       "      <td>cellular</td>\n",
       "      <td>jul</td>\n",
       "      <td>NaN</td>\n",
       "      <td>5</td>\n",
       "      <td>999</td>\n",
       "      <td>0</td>\n",
       "      <td>nonexistent</td>\n",
       "      <td>14</td>\n",
       "      <td>4962</td>\n",
       "      <td>0</td>\n",
       "    </tr>\n",
       "    <tr>\n",
       "      <th>36420</th>\n",
       "      <td>67.0</td>\n",
       "      <td>admin.</td>\n",
       "      <td>married</td>\n",
       "      <td>basic.4y</td>\n",
       "      <td>unknown</td>\n",
       "      <td>yes</td>\n",
       "      <td>no</td>\n",
       "      <td>cellular</td>\n",
       "      <td>jun</td>\n",
       "      <td>NaN</td>\n",
       "      <td>2</td>\n",
       "      <td>999</td>\n",
       "      <td>1</td>\n",
       "      <td>failure</td>\n",
       "      <td>-29</td>\n",
       "      <td>1262</td>\n",
       "      <td>0</td>\n",
       "    </tr>\n",
       "    <tr>\n",
       "      <th>...</th>\n",
       "      <td>...</td>\n",
       "      <td>...</td>\n",
       "      <td>...</td>\n",
       "      <td>...</td>\n",
       "      <td>...</td>\n",
       "      <td>...</td>\n",
       "      <td>...</td>\n",
       "      <td>...</td>\n",
       "      <td>...</td>\n",
       "      <td>...</td>\n",
       "      <td>...</td>\n",
       "      <td>...</td>\n",
       "      <td>...</td>\n",
       "      <td>...</td>\n",
       "      <td>...</td>\n",
       "      <td>...</td>\n",
       "      <td>...</td>\n",
       "    </tr>\n",
       "    <tr>\n",
       "      <th>6782</th>\n",
       "      <td>26.0</td>\n",
       "      <td>technician</td>\n",
       "      <td>single</td>\n",
       "      <td>professional.course</td>\n",
       "      <td>no</td>\n",
       "      <td>no</td>\n",
       "      <td>no</td>\n",
       "      <td>telephone</td>\n",
       "      <td>may</td>\n",
       "      <td>NaN</td>\n",
       "      <td>3</td>\n",
       "      <td>999</td>\n",
       "      <td>0</td>\n",
       "      <td>nonexistent</td>\n",
       "      <td>11</td>\n",
       "      <td>486</td>\n",
       "      <td>0</td>\n",
       "    </tr>\n",
       "    <tr>\n",
       "      <th>32730</th>\n",
       "      <td>39.0</td>\n",
       "      <td>housemaid</td>\n",
       "      <td>divorced</td>\n",
       "      <td>high.school</td>\n",
       "      <td>no</td>\n",
       "      <td>no</td>\n",
       "      <td>no</td>\n",
       "      <td>cellular</td>\n",
       "      <td>nov</td>\n",
       "      <td>NaN</td>\n",
       "      <td>3</td>\n",
       "      <td>999</td>\n",
       "      <td>0</td>\n",
       "      <td>nonexistent</td>\n",
       "      <td>-1</td>\n",
       "      <td>412</td>\n",
       "      <td>0</td>\n",
       "    </tr>\n",
       "    <tr>\n",
       "      <th>326</th>\n",
       "      <td>33.0</td>\n",
       "      <td>technician</td>\n",
       "      <td>married</td>\n",
       "      <td>professional.course</td>\n",
       "      <td>no</td>\n",
       "      <td>yes</td>\n",
       "      <td>no</td>\n",
       "      <td>cellular</td>\n",
       "      <td>aug</td>\n",
       "      <td>NaN</td>\n",
       "      <td>2</td>\n",
       "      <td>999</td>\n",
       "      <td>0</td>\n",
       "      <td>nonexistent</td>\n",
       "      <td>14</td>\n",
       "      <td>4965</td>\n",
       "      <td>0</td>\n",
       "    </tr>\n",
       "    <tr>\n",
       "      <th>30989</th>\n",
       "      <td>26.0</td>\n",
       "      <td>admin.</td>\n",
       "      <td>married</td>\n",
       "      <td>basic.9y</td>\n",
       "      <td>no</td>\n",
       "      <td>yes</td>\n",
       "      <td>no</td>\n",
       "      <td>telephone</td>\n",
       "      <td>may</td>\n",
       "      <td>NaN</td>\n",
       "      <td>2</td>\n",
       "      <td>999</td>\n",
       "      <td>0</td>\n",
       "      <td>nonexistent</td>\n",
       "      <td>11</td>\n",
       "      <td>4858</td>\n",
       "      <td>0</td>\n",
       "    </tr>\n",
       "    <tr>\n",
       "      <th>21001</th>\n",
       "      <td>57.0</td>\n",
       "      <td>blue-collar</td>\n",
       "      <td>married</td>\n",
       "      <td>basic.4y</td>\n",
       "      <td>unknown</td>\n",
       "      <td>no</td>\n",
       "      <td>no</td>\n",
       "      <td>telephone</td>\n",
       "      <td>jun</td>\n",
       "      <td>NaN</td>\n",
       "      <td>5</td>\n",
       "      <td>999</td>\n",
       "      <td>0</td>\n",
       "      <td>nonexistent</td>\n",
       "      <td>14</td>\n",
       "      <td>4961</td>\n",
       "      <td>0</td>\n",
       "    </tr>\n",
       "  </tbody>\n",
       "</table>\n",
       "<p>20000 rows × 17 columns</p>\n",
       "</div>"
      ],
      "text/plain": [
       "       Edad      Trabajo Estado Civil             Fomación   Impago  \\\n",
       "32528  37.0       admin.      married    university.degree       no   \n",
       "31679  27.0   technician       single  professional.course       no   \n",
       "23675  48.0  blue-collar      married             basic.9y       no   \n",
       "29498  30.0  blue-collar      married             basic.4y       no   \n",
       "36420  67.0       admin.      married             basic.4y  unknown   \n",
       "...     ...          ...          ...                  ...      ...   \n",
       "6782   26.0   technician       single  professional.course       no   \n",
       "32730  39.0    housemaid     divorced          high.school       no   \n",
       "326    33.0   technician      married  professional.course       no   \n",
       "30989  26.0       admin.      married             basic.9y       no   \n",
       "21001  57.0  blue-collar      married             basic.4y  unknown   \n",
       "\n",
       "      Prestamo hipotecario Prestamo Personal Canal de contacto  Mes  \\\n",
       "32528              unknown           unknown          cellular  jun   \n",
       "31679                   no                no          cellular  jun   \n",
       "23675                   no                no         telephone  may   \n",
       "29498                  yes                no          cellular  jul   \n",
       "36420                  yes                no          cellular  jun   \n",
       "...                    ...               ...               ...  ...   \n",
       "6782                    no                no         telephone  may   \n",
       "32730                   no                no          cellular  nov   \n",
       "326                    yes                no          cellular  aug   \n",
       "30989                  yes                no         telephone  may   \n",
       "21001                   no                no         telephone  jun   \n",
       "\n",
       "      Dia de la semana  num contactos esta campaña  num días último contacto  \\\n",
       "32528              NaN                           1                        10   \n",
       "31679              NaN                           2                       999   \n",
       "23675              NaN                          14                       999   \n",
       "29498              NaN                           5                       999   \n",
       "36420              NaN                           2                       999   \n",
       "...                ...                         ...                       ...   \n",
       "6782               NaN                           3                       999   \n",
       "32730              NaN                           3                       999   \n",
       "326                NaN                           2                       999   \n",
       "30989              NaN                           2                       999   \n",
       "21001              NaN                           5                       999   \n",
       "\n",
       "       num contactos otras campañas resultado campaña anterior  \\\n",
       "32528                             1                    success   \n",
       "31679                             0                nonexistent   \n",
       "23675                             0                nonexistent   \n",
       "29498                             0                nonexistent   \n",
       "36420                             1                    failure   \n",
       "...                             ...                        ...   \n",
       "6782                              0                nonexistent   \n",
       "32730                             0                nonexistent   \n",
       "326                               0                nonexistent   \n",
       "30989                             0                nonexistent   \n",
       "21001                             0                nonexistent   \n",
       "\n",
       "       variación tasa empleo  euribor3m  contrata_fondos  \n",
       "32528                    -17        719                1  \n",
       "31679                    -17        737                0  \n",
       "23675                     11       4857                0  \n",
       "29498                     14       4962                0  \n",
       "36420                    -29       1262                0  \n",
       "...                      ...        ...              ...  \n",
       "6782                      11        486                0  \n",
       "32730                     -1        412                0  \n",
       "326                       14       4965                0  \n",
       "30989                     11       4858                0  \n",
       "21001                     14       4961                0  \n",
       "\n",
       "[20000 rows x 17 columns]"
      ]
     },
     "execution_count": 22,
     "metadata": {},
     "output_type": "execute_result"
    }
   ],
   "source": [
    "ruta_completa = ruta_proyecto + '/02_Datos/03_Trabajo/' + nombre_fichero_datos\n",
    "\n",
    "df = pd.read_csv(ruta_completa,index_col=0)\n",
    "df"
   ]
  },
  {
   "cell_type": "markdown",
   "id": "9790d322",
   "metadata": {},
   "source": [
    "### CORRECCIÓN DE NOMBRES DE VARIABLES"
   ]
  },
  {
   "cell_type": "markdown",
   "id": "f1fa5201",
   "metadata": {},
   "source": [
    "**Corrección automática**"
   ]
  },
  {
   "cell_type": "code",
   "execution_count": 24,
   "id": "02607b69",
   "metadata": {},
   "outputs": [
    {
     "data": {
      "text/html": [
       "<div>\n",
       "<style scoped>\n",
       "    .dataframe tbody tr th:only-of-type {\n",
       "        vertical-align: middle;\n",
       "    }\n",
       "\n",
       "    .dataframe tbody tr th {\n",
       "        vertical-align: top;\n",
       "    }\n",
       "\n",
       "    .dataframe thead th {\n",
       "        text-align: right;\n",
       "    }\n",
       "</style>\n",
       "<table border=\"1\" class=\"dataframe\">\n",
       "  <thead>\n",
       "    <tr style=\"text-align: right;\">\n",
       "      <th></th>\n",
       "      <th>edad</th>\n",
       "      <th>trabajo</th>\n",
       "      <th>estado_civil</th>\n",
       "      <th>fomacion</th>\n",
       "      <th>impago</th>\n",
       "      <th>prestamo_hipotecario</th>\n",
       "      <th>prestamo_personal</th>\n",
       "      <th>canal_de_contacto</th>\n",
       "      <th>mes</th>\n",
       "      <th>dia_de_la_semana</th>\n",
       "      <th>num_contactos_esta_campana</th>\n",
       "      <th>num_dias_ultimo_contacto</th>\n",
       "      <th>num_contactos_otras_campanas</th>\n",
       "      <th>resultado_campana_anterior</th>\n",
       "      <th>variacion_tasa_empleo</th>\n",
       "      <th>euribor3m</th>\n",
       "      <th>contrata_fondos</th>\n",
       "    </tr>\n",
       "  </thead>\n",
       "  <tbody>\n",
       "    <tr>\n",
       "      <th>32528</th>\n",
       "      <td>37.0</td>\n",
       "      <td>admin.</td>\n",
       "      <td>married</td>\n",
       "      <td>university.degree</td>\n",
       "      <td>no</td>\n",
       "      <td>unknown</td>\n",
       "      <td>unknown</td>\n",
       "      <td>cellular</td>\n",
       "      <td>jun</td>\n",
       "      <td>NaN</td>\n",
       "      <td>1</td>\n",
       "      <td>10</td>\n",
       "      <td>1</td>\n",
       "      <td>success</td>\n",
       "      <td>-17</td>\n",
       "      <td>719</td>\n",
       "      <td>1</td>\n",
       "    </tr>\n",
       "    <tr>\n",
       "      <th>31679</th>\n",
       "      <td>27.0</td>\n",
       "      <td>technician</td>\n",
       "      <td>single</td>\n",
       "      <td>professional.course</td>\n",
       "      <td>no</td>\n",
       "      <td>no</td>\n",
       "      <td>no</td>\n",
       "      <td>cellular</td>\n",
       "      <td>jun</td>\n",
       "      <td>NaN</td>\n",
       "      <td>2</td>\n",
       "      <td>999</td>\n",
       "      <td>0</td>\n",
       "      <td>nonexistent</td>\n",
       "      <td>-17</td>\n",
       "      <td>737</td>\n",
       "      <td>0</td>\n",
       "    </tr>\n",
       "    <tr>\n",
       "      <th>23675</th>\n",
       "      <td>48.0</td>\n",
       "      <td>blue-collar</td>\n",
       "      <td>married</td>\n",
       "      <td>basic.9y</td>\n",
       "      <td>no</td>\n",
       "      <td>no</td>\n",
       "      <td>no</td>\n",
       "      <td>telephone</td>\n",
       "      <td>may</td>\n",
       "      <td>NaN</td>\n",
       "      <td>14</td>\n",
       "      <td>999</td>\n",
       "      <td>0</td>\n",
       "      <td>nonexistent</td>\n",
       "      <td>11</td>\n",
       "      <td>4857</td>\n",
       "      <td>0</td>\n",
       "    </tr>\n",
       "    <tr>\n",
       "      <th>29498</th>\n",
       "      <td>30.0</td>\n",
       "      <td>blue-collar</td>\n",
       "      <td>married</td>\n",
       "      <td>basic.4y</td>\n",
       "      <td>no</td>\n",
       "      <td>yes</td>\n",
       "      <td>no</td>\n",
       "      <td>cellular</td>\n",
       "      <td>jul</td>\n",
       "      <td>NaN</td>\n",
       "      <td>5</td>\n",
       "      <td>999</td>\n",
       "      <td>0</td>\n",
       "      <td>nonexistent</td>\n",
       "      <td>14</td>\n",
       "      <td>4962</td>\n",
       "      <td>0</td>\n",
       "    </tr>\n",
       "    <tr>\n",
       "      <th>36420</th>\n",
       "      <td>67.0</td>\n",
       "      <td>admin.</td>\n",
       "      <td>married</td>\n",
       "      <td>basic.4y</td>\n",
       "      <td>unknown</td>\n",
       "      <td>yes</td>\n",
       "      <td>no</td>\n",
       "      <td>cellular</td>\n",
       "      <td>jun</td>\n",
       "      <td>NaN</td>\n",
       "      <td>2</td>\n",
       "      <td>999</td>\n",
       "      <td>1</td>\n",
       "      <td>failure</td>\n",
       "      <td>-29</td>\n",
       "      <td>1262</td>\n",
       "      <td>0</td>\n",
       "    </tr>\n",
       "    <tr>\n",
       "      <th>...</th>\n",
       "      <td>...</td>\n",
       "      <td>...</td>\n",
       "      <td>...</td>\n",
       "      <td>...</td>\n",
       "      <td>...</td>\n",
       "      <td>...</td>\n",
       "      <td>...</td>\n",
       "      <td>...</td>\n",
       "      <td>...</td>\n",
       "      <td>...</td>\n",
       "      <td>...</td>\n",
       "      <td>...</td>\n",
       "      <td>...</td>\n",
       "      <td>...</td>\n",
       "      <td>...</td>\n",
       "      <td>...</td>\n",
       "      <td>...</td>\n",
       "    </tr>\n",
       "    <tr>\n",
       "      <th>6782</th>\n",
       "      <td>26.0</td>\n",
       "      <td>technician</td>\n",
       "      <td>single</td>\n",
       "      <td>professional.course</td>\n",
       "      <td>no</td>\n",
       "      <td>no</td>\n",
       "      <td>no</td>\n",
       "      <td>telephone</td>\n",
       "      <td>may</td>\n",
       "      <td>NaN</td>\n",
       "      <td>3</td>\n",
       "      <td>999</td>\n",
       "      <td>0</td>\n",
       "      <td>nonexistent</td>\n",
       "      <td>11</td>\n",
       "      <td>486</td>\n",
       "      <td>0</td>\n",
       "    </tr>\n",
       "    <tr>\n",
       "      <th>32730</th>\n",
       "      <td>39.0</td>\n",
       "      <td>housemaid</td>\n",
       "      <td>divorced</td>\n",
       "      <td>high.school</td>\n",
       "      <td>no</td>\n",
       "      <td>no</td>\n",
       "      <td>no</td>\n",
       "      <td>cellular</td>\n",
       "      <td>nov</td>\n",
       "      <td>NaN</td>\n",
       "      <td>3</td>\n",
       "      <td>999</td>\n",
       "      <td>0</td>\n",
       "      <td>nonexistent</td>\n",
       "      <td>-1</td>\n",
       "      <td>412</td>\n",
       "      <td>0</td>\n",
       "    </tr>\n",
       "    <tr>\n",
       "      <th>326</th>\n",
       "      <td>33.0</td>\n",
       "      <td>technician</td>\n",
       "      <td>married</td>\n",
       "      <td>professional.course</td>\n",
       "      <td>no</td>\n",
       "      <td>yes</td>\n",
       "      <td>no</td>\n",
       "      <td>cellular</td>\n",
       "      <td>aug</td>\n",
       "      <td>NaN</td>\n",
       "      <td>2</td>\n",
       "      <td>999</td>\n",
       "      <td>0</td>\n",
       "      <td>nonexistent</td>\n",
       "      <td>14</td>\n",
       "      <td>4965</td>\n",
       "      <td>0</td>\n",
       "    </tr>\n",
       "    <tr>\n",
       "      <th>30989</th>\n",
       "      <td>26.0</td>\n",
       "      <td>admin.</td>\n",
       "      <td>married</td>\n",
       "      <td>basic.9y</td>\n",
       "      <td>no</td>\n",
       "      <td>yes</td>\n",
       "      <td>no</td>\n",
       "      <td>telephone</td>\n",
       "      <td>may</td>\n",
       "      <td>NaN</td>\n",
       "      <td>2</td>\n",
       "      <td>999</td>\n",
       "      <td>0</td>\n",
       "      <td>nonexistent</td>\n",
       "      <td>11</td>\n",
       "      <td>4858</td>\n",
       "      <td>0</td>\n",
       "    </tr>\n",
       "    <tr>\n",
       "      <th>21001</th>\n",
       "      <td>57.0</td>\n",
       "      <td>blue-collar</td>\n",
       "      <td>married</td>\n",
       "      <td>basic.4y</td>\n",
       "      <td>unknown</td>\n",
       "      <td>no</td>\n",
       "      <td>no</td>\n",
       "      <td>telephone</td>\n",
       "      <td>jun</td>\n",
       "      <td>NaN</td>\n",
       "      <td>5</td>\n",
       "      <td>999</td>\n",
       "      <td>0</td>\n",
       "      <td>nonexistent</td>\n",
       "      <td>14</td>\n",
       "      <td>4961</td>\n",
       "      <td>0</td>\n",
       "    </tr>\n",
       "  </tbody>\n",
       "</table>\n",
       "<p>20000 rows × 17 columns</p>\n",
       "</div>"
      ],
      "text/plain": [
       "       edad      trabajo estado_civil             fomacion   impago  \\\n",
       "32528  37.0       admin.      married    university.degree       no   \n",
       "31679  27.0   technician       single  professional.course       no   \n",
       "23675  48.0  blue-collar      married             basic.9y       no   \n",
       "29498  30.0  blue-collar      married             basic.4y       no   \n",
       "36420  67.0       admin.      married             basic.4y  unknown   \n",
       "...     ...          ...          ...                  ...      ...   \n",
       "6782   26.0   technician       single  professional.course       no   \n",
       "32730  39.0    housemaid     divorced          high.school       no   \n",
       "326    33.0   technician      married  professional.course       no   \n",
       "30989  26.0       admin.      married             basic.9y       no   \n",
       "21001  57.0  blue-collar      married             basic.4y  unknown   \n",
       "\n",
       "      prestamo_hipotecario prestamo_personal canal_de_contacto  mes  \\\n",
       "32528              unknown           unknown          cellular  jun   \n",
       "31679                   no                no          cellular  jun   \n",
       "23675                   no                no         telephone  may   \n",
       "29498                  yes                no          cellular  jul   \n",
       "36420                  yes                no          cellular  jun   \n",
       "...                    ...               ...               ...  ...   \n",
       "6782                    no                no         telephone  may   \n",
       "32730                   no                no          cellular  nov   \n",
       "326                    yes                no          cellular  aug   \n",
       "30989                  yes                no         telephone  may   \n",
       "21001                   no                no         telephone  jun   \n",
       "\n",
       "      dia_de_la_semana  num_contactos_esta_campana  num_dias_ultimo_contacto  \\\n",
       "32528              NaN                           1                        10   \n",
       "31679              NaN                           2                       999   \n",
       "23675              NaN                          14                       999   \n",
       "29498              NaN                           5                       999   \n",
       "36420              NaN                           2                       999   \n",
       "...                ...                         ...                       ...   \n",
       "6782               NaN                           3                       999   \n",
       "32730              NaN                           3                       999   \n",
       "326                NaN                           2                       999   \n",
       "30989              NaN                           2                       999   \n",
       "21001              NaN                           5                       999   \n",
       "\n",
       "       num_contactos_otras_campanas resultado_campana_anterior  \\\n",
       "32528                             1                    success   \n",
       "31679                             0                nonexistent   \n",
       "23675                             0                nonexistent   \n",
       "29498                             0                nonexistent   \n",
       "36420                             1                    failure   \n",
       "...                             ...                        ...   \n",
       "6782                              0                nonexistent   \n",
       "32730                             0                nonexistent   \n",
       "326                               0                nonexistent   \n",
       "30989                             0                nonexistent   \n",
       "21001                             0                nonexistent   \n",
       "\n",
       "       variacion_tasa_empleo  euribor3m  contrata_fondos  \n",
       "32528                    -17        719                1  \n",
       "31679                    -17        737                0  \n",
       "23675                     11       4857                0  \n",
       "29498                     14       4962                0  \n",
       "36420                    -29       1262                0  \n",
       "...                      ...        ...              ...  \n",
       "6782                      11        486                0  \n",
       "32730                     -1        412                0  \n",
       "326                       14       4965                0  \n",
       "30989                     11       4858                0  \n",
       "21001                     14       4961                0  \n",
       "\n",
       "[20000 rows x 17 columns]"
      ]
     },
     "execution_count": 24,
     "metadata": {},
     "output_type": "execute_result"
    }
   ],
   "source": [
    "df = clean_names(df) # Limpieza de nombres de columnas de forma automática\n",
    "df"
   ]
  },
  {
   "cell_type": "markdown",
   "id": "25bf4c99",
   "metadata": {},
   "source": [
    "**Corrección manual**"
   ]
  },
  {
   "cell_type": "code",
   "execution_count": 25,
   "id": "c6d83e70",
   "metadata": {},
   "outputs": [
    {
     "data": {
      "text/html": [
       "<div>\n",
       "<style scoped>\n",
       "    .dataframe tbody tr th:only-of-type {\n",
       "        vertical-align: middle;\n",
       "    }\n",
       "\n",
       "    .dataframe tbody tr th {\n",
       "        vertical-align: top;\n",
       "    }\n",
       "\n",
       "    .dataframe thead th {\n",
       "        text-align: right;\n",
       "    }\n",
       "</style>\n",
       "<table border=\"1\" class=\"dataframe\">\n",
       "  <thead>\n",
       "    <tr style=\"text-align: right;\">\n",
       "      <th></th>\n",
       "      <th>edad</th>\n",
       "      <th>trabajo</th>\n",
       "      <th>estado_civil</th>\n",
       "      <th>formacion</th>\n",
       "      <th>impago</th>\n",
       "      <th>hipoteca</th>\n",
       "      <th>consumo</th>\n",
       "      <th>canal_de_contacto</th>\n",
       "      <th>mes</th>\n",
       "      <th>dia_de_la_semana</th>\n",
       "      <th>num_contactos_esta_campana</th>\n",
       "      <th>num_dias_ultimo_contacto</th>\n",
       "      <th>num_contactos_otras_campanas</th>\n",
       "      <th>resultado_campana_anterior</th>\n",
       "      <th>variacion_tasa_empleo</th>\n",
       "      <th>euribor3m</th>\n",
       "      <th>contrata_fondos</th>\n",
       "    </tr>\n",
       "  </thead>\n",
       "  <tbody>\n",
       "    <tr>\n",
       "      <th>32528</th>\n",
       "      <td>37.0</td>\n",
       "      <td>admin.</td>\n",
       "      <td>married</td>\n",
       "      <td>university.degree</td>\n",
       "      <td>no</td>\n",
       "      <td>unknown</td>\n",
       "      <td>unknown</td>\n",
       "      <td>cellular</td>\n",
       "      <td>jun</td>\n",
       "      <td>NaN</td>\n",
       "      <td>1</td>\n",
       "      <td>10</td>\n",
       "      <td>1</td>\n",
       "      <td>success</td>\n",
       "      <td>-17</td>\n",
       "      <td>719</td>\n",
       "      <td>1</td>\n",
       "    </tr>\n",
       "    <tr>\n",
       "      <th>31679</th>\n",
       "      <td>27.0</td>\n",
       "      <td>technician</td>\n",
       "      <td>single</td>\n",
       "      <td>professional.course</td>\n",
       "      <td>no</td>\n",
       "      <td>no</td>\n",
       "      <td>no</td>\n",
       "      <td>cellular</td>\n",
       "      <td>jun</td>\n",
       "      <td>NaN</td>\n",
       "      <td>2</td>\n",
       "      <td>999</td>\n",
       "      <td>0</td>\n",
       "      <td>nonexistent</td>\n",
       "      <td>-17</td>\n",
       "      <td>737</td>\n",
       "      <td>0</td>\n",
       "    </tr>\n",
       "    <tr>\n",
       "      <th>23675</th>\n",
       "      <td>48.0</td>\n",
       "      <td>blue-collar</td>\n",
       "      <td>married</td>\n",
       "      <td>basic.9y</td>\n",
       "      <td>no</td>\n",
       "      <td>no</td>\n",
       "      <td>no</td>\n",
       "      <td>telephone</td>\n",
       "      <td>may</td>\n",
       "      <td>NaN</td>\n",
       "      <td>14</td>\n",
       "      <td>999</td>\n",
       "      <td>0</td>\n",
       "      <td>nonexistent</td>\n",
       "      <td>11</td>\n",
       "      <td>4857</td>\n",
       "      <td>0</td>\n",
       "    </tr>\n",
       "    <tr>\n",
       "      <th>29498</th>\n",
       "      <td>30.0</td>\n",
       "      <td>blue-collar</td>\n",
       "      <td>married</td>\n",
       "      <td>basic.4y</td>\n",
       "      <td>no</td>\n",
       "      <td>yes</td>\n",
       "      <td>no</td>\n",
       "      <td>cellular</td>\n",
       "      <td>jul</td>\n",
       "      <td>NaN</td>\n",
       "      <td>5</td>\n",
       "      <td>999</td>\n",
       "      <td>0</td>\n",
       "      <td>nonexistent</td>\n",
       "      <td>14</td>\n",
       "      <td>4962</td>\n",
       "      <td>0</td>\n",
       "    </tr>\n",
       "    <tr>\n",
       "      <th>36420</th>\n",
       "      <td>67.0</td>\n",
       "      <td>admin.</td>\n",
       "      <td>married</td>\n",
       "      <td>basic.4y</td>\n",
       "      <td>unknown</td>\n",
       "      <td>yes</td>\n",
       "      <td>no</td>\n",
       "      <td>cellular</td>\n",
       "      <td>jun</td>\n",
       "      <td>NaN</td>\n",
       "      <td>2</td>\n",
       "      <td>999</td>\n",
       "      <td>1</td>\n",
       "      <td>failure</td>\n",
       "      <td>-29</td>\n",
       "      <td>1262</td>\n",
       "      <td>0</td>\n",
       "    </tr>\n",
       "    <tr>\n",
       "      <th>...</th>\n",
       "      <td>...</td>\n",
       "      <td>...</td>\n",
       "      <td>...</td>\n",
       "      <td>...</td>\n",
       "      <td>...</td>\n",
       "      <td>...</td>\n",
       "      <td>...</td>\n",
       "      <td>...</td>\n",
       "      <td>...</td>\n",
       "      <td>...</td>\n",
       "      <td>...</td>\n",
       "      <td>...</td>\n",
       "      <td>...</td>\n",
       "      <td>...</td>\n",
       "      <td>...</td>\n",
       "      <td>...</td>\n",
       "      <td>...</td>\n",
       "    </tr>\n",
       "    <tr>\n",
       "      <th>6782</th>\n",
       "      <td>26.0</td>\n",
       "      <td>technician</td>\n",
       "      <td>single</td>\n",
       "      <td>professional.course</td>\n",
       "      <td>no</td>\n",
       "      <td>no</td>\n",
       "      <td>no</td>\n",
       "      <td>telephone</td>\n",
       "      <td>may</td>\n",
       "      <td>NaN</td>\n",
       "      <td>3</td>\n",
       "      <td>999</td>\n",
       "      <td>0</td>\n",
       "      <td>nonexistent</td>\n",
       "      <td>11</td>\n",
       "      <td>486</td>\n",
       "      <td>0</td>\n",
       "    </tr>\n",
       "    <tr>\n",
       "      <th>32730</th>\n",
       "      <td>39.0</td>\n",
       "      <td>housemaid</td>\n",
       "      <td>divorced</td>\n",
       "      <td>high.school</td>\n",
       "      <td>no</td>\n",
       "      <td>no</td>\n",
       "      <td>no</td>\n",
       "      <td>cellular</td>\n",
       "      <td>nov</td>\n",
       "      <td>NaN</td>\n",
       "      <td>3</td>\n",
       "      <td>999</td>\n",
       "      <td>0</td>\n",
       "      <td>nonexistent</td>\n",
       "      <td>-1</td>\n",
       "      <td>412</td>\n",
       "      <td>0</td>\n",
       "    </tr>\n",
       "    <tr>\n",
       "      <th>326</th>\n",
       "      <td>33.0</td>\n",
       "      <td>technician</td>\n",
       "      <td>married</td>\n",
       "      <td>professional.course</td>\n",
       "      <td>no</td>\n",
       "      <td>yes</td>\n",
       "      <td>no</td>\n",
       "      <td>cellular</td>\n",
       "      <td>aug</td>\n",
       "      <td>NaN</td>\n",
       "      <td>2</td>\n",
       "      <td>999</td>\n",
       "      <td>0</td>\n",
       "      <td>nonexistent</td>\n",
       "      <td>14</td>\n",
       "      <td>4965</td>\n",
       "      <td>0</td>\n",
       "    </tr>\n",
       "    <tr>\n",
       "      <th>30989</th>\n",
       "      <td>26.0</td>\n",
       "      <td>admin.</td>\n",
       "      <td>married</td>\n",
       "      <td>basic.9y</td>\n",
       "      <td>no</td>\n",
       "      <td>yes</td>\n",
       "      <td>no</td>\n",
       "      <td>telephone</td>\n",
       "      <td>may</td>\n",
       "      <td>NaN</td>\n",
       "      <td>2</td>\n",
       "      <td>999</td>\n",
       "      <td>0</td>\n",
       "      <td>nonexistent</td>\n",
       "      <td>11</td>\n",
       "      <td>4858</td>\n",
       "      <td>0</td>\n",
       "    </tr>\n",
       "    <tr>\n",
       "      <th>21001</th>\n",
       "      <td>57.0</td>\n",
       "      <td>blue-collar</td>\n",
       "      <td>married</td>\n",
       "      <td>basic.4y</td>\n",
       "      <td>unknown</td>\n",
       "      <td>no</td>\n",
       "      <td>no</td>\n",
       "      <td>telephone</td>\n",
       "      <td>jun</td>\n",
       "      <td>NaN</td>\n",
       "      <td>5</td>\n",
       "      <td>999</td>\n",
       "      <td>0</td>\n",
       "      <td>nonexistent</td>\n",
       "      <td>14</td>\n",
       "      <td>4961</td>\n",
       "      <td>0</td>\n",
       "    </tr>\n",
       "  </tbody>\n",
       "</table>\n",
       "<p>20000 rows × 17 columns</p>\n",
       "</div>"
      ],
      "text/plain": [
       "       edad      trabajo estado_civil            formacion   impago hipoteca  \\\n",
       "32528  37.0       admin.      married    university.degree       no  unknown   \n",
       "31679  27.0   technician       single  professional.course       no       no   \n",
       "23675  48.0  blue-collar      married             basic.9y       no       no   \n",
       "29498  30.0  blue-collar      married             basic.4y       no      yes   \n",
       "36420  67.0       admin.      married             basic.4y  unknown      yes   \n",
       "...     ...          ...          ...                  ...      ...      ...   \n",
       "6782   26.0   technician       single  professional.course       no       no   \n",
       "32730  39.0    housemaid     divorced          high.school       no       no   \n",
       "326    33.0   technician      married  professional.course       no      yes   \n",
       "30989  26.0       admin.      married             basic.9y       no      yes   \n",
       "21001  57.0  blue-collar      married             basic.4y  unknown       no   \n",
       "\n",
       "       consumo canal_de_contacto  mes dia_de_la_semana  \\\n",
       "32528  unknown          cellular  jun              NaN   \n",
       "31679       no          cellular  jun              NaN   \n",
       "23675       no         telephone  may              NaN   \n",
       "29498       no          cellular  jul              NaN   \n",
       "36420       no          cellular  jun              NaN   \n",
       "...        ...               ...  ...              ...   \n",
       "6782        no         telephone  may              NaN   \n",
       "32730       no          cellular  nov              NaN   \n",
       "326         no          cellular  aug              NaN   \n",
       "30989       no         telephone  may              NaN   \n",
       "21001       no         telephone  jun              NaN   \n",
       "\n",
       "       num_contactos_esta_campana  num_dias_ultimo_contacto  \\\n",
       "32528                           1                        10   \n",
       "31679                           2                       999   \n",
       "23675                          14                       999   \n",
       "29498                           5                       999   \n",
       "36420                           2                       999   \n",
       "...                           ...                       ...   \n",
       "6782                            3                       999   \n",
       "32730                           3                       999   \n",
       "326                             2                       999   \n",
       "30989                           2                       999   \n",
       "21001                           5                       999   \n",
       "\n",
       "       num_contactos_otras_campanas resultado_campana_anterior  \\\n",
       "32528                             1                    success   \n",
       "31679                             0                nonexistent   \n",
       "23675                             0                nonexistent   \n",
       "29498                             0                nonexistent   \n",
       "36420                             1                    failure   \n",
       "...                             ...                        ...   \n",
       "6782                              0                nonexistent   \n",
       "32730                             0                nonexistent   \n",
       "326                               0                nonexistent   \n",
       "30989                             0                nonexistent   \n",
       "21001                             0                nonexistent   \n",
       "\n",
       "       variacion_tasa_empleo  euribor3m  contrata_fondos  \n",
       "32528                    -17        719                1  \n",
       "31679                    -17        737                0  \n",
       "23675                     11       4857                0  \n",
       "29498                     14       4962                0  \n",
       "36420                    -29       1262                0  \n",
       "...                      ...        ...              ...  \n",
       "6782                      11        486                0  \n",
       "32730                     -1        412                0  \n",
       "326                       14       4965                0  \n",
       "30989                     11       4858                0  \n",
       "21001                     14       4961                0  \n",
       "\n",
       "[20000 rows x 17 columns]"
      ]
     },
     "execution_count": 25,
     "metadata": {},
     "output_type": "execute_result"
    }
   ],
   "source": [
    "df.rename(columns = {'fomacion':'formacion',\n",
    "                     'prestamo_hipotecario':'hipoteca',\n",
    "                     'prestamo_personal':'consumo'}, inplace=True)\n",
    "df"
   ]
  },
  {
   "cell_type": "markdown",
   "id": "d2d5443c",
   "metadata": {},
   "source": [
    "### VISIÓN GENERAL"
   ]
  },
  {
   "cell_type": "code",
   "execution_count": 26,
   "id": "976c8ac6",
   "metadata": {},
   "outputs": [
    {
     "name": "stdout",
     "output_type": "stream",
     "text": [
      "<class 'pandas.core.frame.DataFrame'>\n",
      "Index: 20000 entries, 32528 to 21001\n",
      "Data columns (total 17 columns):\n",
      " #   Column                        Non-Null Count  Dtype  \n",
      "---  ------                        --------------  -----  \n",
      " 0   edad                          18609 non-null  float64\n",
      " 1   trabajo                       20000 non-null  object \n",
      " 2   estado_civil                  20000 non-null  object \n",
      " 3   formacion                     17575 non-null  object \n",
      " 4   impago                        20000 non-null  object \n",
      " 5   hipoteca                      20000 non-null  object \n",
      " 6   consumo                       20000 non-null  object \n",
      " 7   canal_de_contacto             20000 non-null  object \n",
      " 8   mes                           20000 non-null  object \n",
      " 9   dia_de_la_semana              1031 non-null   object \n",
      " 10  num_contactos_esta_campana    20000 non-null  int64  \n",
      " 11  num_dias_ultimo_contacto      20000 non-null  int64  \n",
      " 12  num_contactos_otras_campanas  20000 non-null  int64  \n",
      " 13  resultado_campana_anterior    20000 non-null  object \n",
      " 14  variacion_tasa_empleo         20000 non-null  int64  \n",
      " 15  euribor3m                     20000 non-null  int64  \n",
      " 16  contrata_fondos               20000 non-null  int64  \n",
      "dtypes: float64(1), int64(6), object(10)\n",
      "memory usage: 2.7+ MB\n"
     ]
    }
   ],
   "source": [
    "df.info()"
   ]
  },
  {
   "cell_type": "markdown",
   "id": "158ee1d7",
   "metadata": {},
   "source": [
    "### TIPOS DE DATOS"
   ]
  },
  {
   "cell_type": "markdown",
   "id": "88162727",
   "metadata": {},
   "source": [
    "- Identificación"
   ]
  },
  {
   "cell_type": "code",
   "execution_count": 27,
   "id": "197a99c2",
   "metadata": {},
   "outputs": [
    {
     "data": {
      "text/plain": [
       "edad                            float64\n",
       "trabajo                          object\n",
       "estado_civil                     object\n",
       "formacion                        object\n",
       "impago                           object\n",
       "hipoteca                         object\n",
       "consumo                          object\n",
       "canal_de_contacto                object\n",
       "mes                              object\n",
       "dia_de_la_semana                 object\n",
       "num_contactos_esta_campana        int64\n",
       "num_dias_ultimo_contacto          int64\n",
       "num_contactos_otras_campanas      int64\n",
       "resultado_campana_anterior       object\n",
       "variacion_tasa_empleo             int64\n",
       "euribor3m                         int64\n",
       "contrata_fondos                   int64\n",
       "dtype: object"
      ]
     },
     "execution_count": 27,
     "metadata": {},
     "output_type": "execute_result"
    }
   ],
   "source": [
    "df.dtypes"
   ]
  },
  {
   "cell_type": "markdown",
   "id": "54f495a6",
   "metadata": {},
   "source": [
    "- Corrección"
   ]
  },
  {
   "cell_type": "code",
   "execution_count": 28,
   "id": "828b9893",
   "metadata": {
    "scrolled": true
   },
   "outputs": [
    {
     "data": {
      "text/plain": [
       "edad                              Int64\n",
       "trabajo                          object\n",
       "estado_civil                     object\n",
       "formacion                        object\n",
       "impago                           object\n",
       "hipoteca                         object\n",
       "consumo                          object\n",
       "canal_de_contacto                object\n",
       "mes                              object\n",
       "dia_de_la_semana                 object\n",
       "num_contactos_esta_campana        int64\n",
       "num_dias_ultimo_contacto          int64\n",
       "num_contactos_otras_campanas      int64\n",
       "resultado_campana_anterior       object\n",
       "variacion_tasa_empleo             int64\n",
       "euribor3m                       float64\n",
       "contrata_fondos                   int64\n",
       "dtype: object"
      ]
     },
     "execution_count": 28,
     "metadata": {},
     "output_type": "execute_result"
    }
   ],
   "source": [
    "df = df.astype({'edad':'Int64',\n",
    "           'euribor3m': 'float'})\n",
    "\n",
    "df.dtypes"
   ]
  },
  {
   "cell_type": "markdown",
   "id": "cc8d4a22",
   "metadata": {},
   "source": [
    "### VALORES ÚNICOS"
   ]
  },
  {
   "cell_type": "markdown",
   "id": "f21f0e36",
   "metadata": {},
   "source": [
    "- Identificación"
   ]
  },
  {
   "cell_type": "code",
   "execution_count": 29,
   "id": "6e53e444",
   "metadata": {},
   "outputs": [
    {
     "data": {
      "text/plain": [
       "contrata_fondos                   2\n",
       "canal_de_contacto                 2\n",
       "impago                            3\n",
       "hipoteca                          3\n",
       "consumo                           3\n",
       "resultado_campana_anterior        3\n",
       "estado_civil                      4\n",
       "dia_de_la_semana                  5\n",
       "num_contactos_otras_campanas      7\n",
       "formacion                         8\n",
       "variacion_tasa_empleo            10\n",
       "mes                              10\n",
       "trabajo                          12\n",
       "num_dias_ultimo_contacto         27\n",
       "num_contactos_esta_campana       40\n",
       "edad                             77\n",
       "euribor3m                       307\n",
       "dtype: int64"
      ]
     },
     "execution_count": 29,
     "metadata": {},
     "output_type": "execute_result"
    }
   ],
   "source": [
    "df.nunique().sort_values()"
   ]
  },
  {
   "cell_type": "markdown",
   "id": "b1d1a668",
   "metadata": {},
   "source": [
    "- Corrección"
   ]
  },
  {
   "cell_type": "code",
   "execution_count": 30,
   "id": "62f7d14e",
   "metadata": {},
   "outputs": [],
   "source": [
    "df.drop(columns = 'canal_de_contacto', inplace = True)"
   ]
  },
  {
   "cell_type": "markdown",
   "id": "e25cfc89",
   "metadata": {},
   "source": [
    "### DUPLICADOS"
   ]
  },
  {
   "cell_type": "markdown",
   "id": "8a079ed3",
   "metadata": {},
   "source": [
    "- Identificación"
   ]
  },
  {
   "cell_type": "code",
   "execution_count": 31,
   "id": "f5b23bfc",
   "metadata": {
    "scrolled": true
   },
   "outputs": [
    {
     "data": {
      "text/plain": [
       "418"
      ]
     },
     "execution_count": 31,
     "metadata": {},
     "output_type": "execute_result"
    }
   ],
   "source": [
    "df.duplicated().sum()"
   ]
  },
  {
   "cell_type": "markdown",
   "id": "d440242b",
   "metadata": {},
   "source": [
    "- Corrección"
   ]
  },
  {
   "cell_type": "code",
   "execution_count": 32,
   "id": "a693f362",
   "metadata": {},
   "outputs": [],
   "source": [
    "df.drop_duplicates(inplace = True)"
   ]
  },
  {
   "cell_type": "markdown",
   "id": "632ec2cd",
   "metadata": {},
   "source": [
    "### SEPARAR NUMÉRICAS Y CATEGÓRICAS"
   ]
  },
  {
   "cell_type": "markdown",
   "id": "573a61ac",
   "metadata": {},
   "source": [
    "**Categóricas**"
   ]
  },
  {
   "cell_type": "code",
   "execution_count": 33,
   "id": "47a7eece",
   "metadata": {},
   "outputs": [],
   "source": [
    "cat = df.select_dtypes(exclude = 'number').copy()"
   ]
  },
  {
   "cell_type": "markdown",
   "id": "41756893",
   "metadata": {},
   "source": [
    "**Numéricas**"
   ]
  },
  {
   "cell_type": "code",
   "execution_count": 34,
   "id": "59140e9a",
   "metadata": {},
   "outputs": [],
   "source": [
    "num = df.select_dtypes(include='number').copy()"
   ]
  },
  {
   "cell_type": "markdown",
   "id": "5e7d8e7e",
   "metadata": {},
   "source": [
    "### GESTIÓN DE CATEGÓRICAS"
   ]
  },
  {
   "cell_type": "markdown",
   "id": "5b5808b7",
   "metadata": {},
   "source": [
    "#### NULOS"
   ]
  },
  {
   "cell_type": "markdown",
   "id": "5c08ca55",
   "metadata": {},
   "source": [
    "Identificación"
   ]
  },
  {
   "cell_type": "code",
   "execution_count": 35,
   "id": "da49ae63",
   "metadata": {
    "scrolled": true
   },
   "outputs": [
    {
     "data": {
      "text/plain": [
       "dia_de_la_semana              18552\n",
       "formacion                      2413\n",
       "trabajo                           0\n",
       "estado_civil                      0\n",
       "impago                            0\n",
       "hipoteca                          0\n",
       "consumo                           0\n",
       "mes                               0\n",
       "resultado_campana_anterior        0\n",
       "dtype: int64"
      ]
     },
     "execution_count": 35,
     "metadata": {},
     "output_type": "execute_result"
    }
   ],
   "source": [
    "cat.isna().sum().sort_values(ascending = False)"
   ]
  },
  {
   "cell_type": "markdown",
   "id": "6802d575",
   "metadata": {},
   "source": [
    "Corrección"
   ]
  },
  {
   "cell_type": "markdown",
   "id": "8b7a0f5c",
   "metadata": {},
   "source": [
    "- Eliminar la variable"
   ]
  },
  {
   "cell_type": "code",
   "execution_count": 36,
   "id": "e73e2300",
   "metadata": {},
   "outputs": [],
   "source": [
    "cat.drop(columns = 'dia_de_la_semana',inplace = True)"
   ]
  },
  {
   "cell_type": "markdown",
   "id": "cdd2db55",
   "metadata": {},
   "source": [
    "- Eliminar registros"
   ]
  },
  {
   "cell_type": "markdown",
   "id": "d50e87a0",
   "metadata": {},
   "source": [
    "*Cuidado: Si se eliminan registros hay que eliminarlos tanto de cat como de num*"
   ]
  },
  {
   "cell_type": "code",
   "execution_count": 37,
   "id": "62ad5097",
   "metadata": {},
   "outputs": [],
   "source": [
    "criterio = 3\n",
    "cat.dropna(thresh=criterio, inplace=True)\n",
    "num.dropna(thresh=criterio, inplace=True)"
   ]
  },
  {
   "cell_type": "markdown",
   "id": "ebeb52a6",
   "metadata": {},
   "source": [
    "- Imputar por un valor"
   ]
  },
  {
   "cell_type": "markdown",
   "id": "2cba1c3c",
   "metadata": {},
   "source": [
    "Variables a imputar"
   ]
  },
  {
   "cell_type": "code",
   "execution_count": 38,
   "id": "4050ef9f",
   "metadata": {},
   "outputs": [],
   "source": [
    "# var_imputar_valor = ['resultado_campana_anterior','formacion']"
   ]
  },
  {
   "cell_type": "markdown",
   "id": "fa866ac6",
   "metadata": {},
   "source": [
    "Valor por el que imputar"
   ]
  },
  {
   "cell_type": "code",
   "execution_count": 39,
   "id": "10abb34a",
   "metadata": {},
   "outputs": [],
   "source": [
    "valor = 'NULO'"
   ]
  },
  {
   "cell_type": "markdown",
   "id": "78d10252",
   "metadata": {},
   "source": [
    "- Imputar"
   ]
  },
  {
   "cell_type": "code",
   "execution_count": 40,
   "id": "f16e8491",
   "metadata": {},
   "outputs": [],
   "source": [
    "# cat[var_imputar_valor] = cat[var_imputar_valor].fillna(valor)"
   ]
  },
  {
   "cell_type": "markdown",
   "id": "c111e44d",
   "metadata": {},
   "source": [
    "- Imputar por la moda"
   ]
  },
  {
   "cell_type": "markdown",
   "id": "4c1a9c46",
   "metadata": {},
   "source": [
    "Variables a imputar"
   ]
  },
  {
   "cell_type": "code",
   "execution_count": 41,
   "id": "cf4cee3d",
   "metadata": {},
   "outputs": [],
   "source": [
    "var_imputar_moda = ['resultado_campana_anterior','formacion']"
   ]
  },
  {
   "cell_type": "markdown",
   "id": "e3a31c7d",
   "metadata": {},
   "source": [
    "Funcion para imputar con la moda"
   ]
  },
  {
   "cell_type": "code",
   "execution_count": 42,
   "id": "6d7c902b",
   "metadata": {},
   "outputs": [],
   "source": [
    "def imputar_moda(variable):\n",
    "    return(variable.fillna(variable.mode()[0]))"
   ]
  },
  {
   "cell_type": "markdown",
   "id": "b2c3ceba",
   "metadata": {},
   "source": [
    "Imputar con la moda"
   ]
  },
  {
   "cell_type": "code",
   "execution_count": 43,
   "id": "5f5184ef",
   "metadata": {},
   "outputs": [],
   "source": [
    "cat[var_imputar_moda] = cat[var_imputar_moda].apply(imputar_moda)"
   ]
  },
  {
   "cell_type": "markdown",
   "id": "913cd65d",
   "metadata": {},
   "source": [
    "### ATÍPICOS"
   ]
  },
  {
   "cell_type": "markdown",
   "id": "5a575397",
   "metadata": {},
   "source": [
    "- Categorías poco frecuentes"
   ]
  },
  {
   "cell_type": "markdown",
   "id": "e88c9f39",
   "metadata": {},
   "source": [
    "Función para agrupar categorías raras en 'OTROS'"
   ]
  },
  {
   "cell_type": "code",
   "execution_count": 44,
   "id": "c59f8d06",
   "metadata": {},
   "outputs": [],
   "source": [
    "def agrupar_cat_raras(variable, criterio = 0.05):\n",
    "    # Calcula las frecuencias\n",
    "    frecuencias = variable.value_counts(normalize=True)\n",
    "    # Identifica las que están por debajo del criterio\n",
    "    temp = [cada for cada in frecuencias.loc[frecuencias < criterio].index.values]\n",
    "    # Las recodifica en 'OTROS'\n",
    "    temp2 = np.where(variable.isin(temp),'OTROS',variable)\n",
    "    # Devuelve el resultado\n",
    "    return(temp2)"
   ]
  },
  {
   "cell_type": "markdown",
   "id": "4205e067",
   "metadata": {},
   "source": [
    "Variables a imputar"
   ]
  },
  {
   "cell_type": "code",
   "execution_count": 45,
   "id": "ec35c874",
   "metadata": {},
   "outputs": [],
   "source": [
    "var_imputar_moda = ['trabajo','estado_civil']"
   ]
  },
  {
   "cell_type": "markdown",
   "id": "5eaca402",
   "metadata": {},
   "source": [
    "Aplicar"
   ]
  },
  {
   "cell_type": "code",
   "execution_count": 46,
   "id": "2b187bc7",
   "metadata": {},
   "outputs": [],
   "source": [
    "for variable in var_imputar_moda:\n",
    "    cat[variable] = agrupar_cat_raras(cat[variable],criterio = 0.02)"
   ]
  },
  {
   "cell_type": "markdown",
   "id": "db3a72a6",
   "metadata": {},
   "source": [
    "### GESTIÓN DE NUMÉRICAS"
   ]
  },
  {
   "cell_type": "markdown",
   "id": "d65bd06a",
   "metadata": {},
   "source": [
    "#### NULOS"
   ]
  },
  {
   "cell_type": "markdown",
   "id": "e5ee8416",
   "metadata": {},
   "source": [
    "Identificación"
   ]
  },
  {
   "cell_type": "code",
   "execution_count": 47,
   "id": "c9f054a3",
   "metadata": {
    "scrolled": true
   },
   "outputs": [
    {
     "data": {
      "text/plain": [
       "edad                            1356\n",
       "num_contactos_esta_campana         0\n",
       "num_dias_ultimo_contacto           0\n",
       "num_contactos_otras_campanas       0\n",
       "variacion_tasa_empleo              0\n",
       "euribor3m                          0\n",
       "contrata_fondos                    0\n",
       "dtype: int64"
      ]
     },
     "execution_count": 47,
     "metadata": {},
     "output_type": "execute_result"
    }
   ],
   "source": [
    "num.isna().sum().sort_values(ascending = False)"
   ]
  },
  {
   "cell_type": "markdown",
   "id": "1b7cb2c4",
   "metadata": {},
   "source": [
    "Corrección"
   ]
  },
  {
   "cell_type": "markdown",
   "id": "48c76393",
   "metadata": {},
   "source": [
    "- Eliminar la variable"
   ]
  },
  {
   "cell_type": "code",
   "execution_count": 48,
   "id": "ba078af2",
   "metadata": {},
   "outputs": [],
   "source": [
    "num.drop(columns = 'num_contactos_otras_campanas',inplace = True)"
   ]
  },
  {
   "cell_type": "markdown",
   "id": "aab11eff",
   "metadata": {},
   "source": [
    "- Eliminar registros"
   ]
  },
  {
   "cell_type": "markdown",
   "id": "fa00a59d",
   "metadata": {},
   "source": [
    "*Cuidado: Si se eliminan registros hay que eliminarlos tanto de cat como de num*"
   ]
  },
  {
   "cell_type": "code",
   "execution_count": 49,
   "id": "c5292f66",
   "metadata": {},
   "outputs": [],
   "source": [
    "criterio = 3\n",
    "cat.dropna(thresh=criterio, inplace=True)\n",
    "num.dropna(thresh=criterio, inplace=True)"
   ]
  },
  {
   "cell_type": "markdown",
   "id": "214264cb",
   "metadata": {},
   "source": [
    "- Imputar por la media"
   ]
  },
  {
   "cell_type": "markdown",
   "id": "1f927674",
   "metadata": {},
   "source": [
    "Variables a imputar"
   ]
  },
  {
   "cell_type": "code",
   "execution_count": 50,
   "id": "17c30954",
   "metadata": {},
   "outputs": [],
   "source": [
    "var_imputar_media = ['edad','num_contactos_esta_campana']"
   ]
  },
  {
   "cell_type": "markdown",
   "id": "ac2fbb2c",
   "metadata": {},
   "source": [
    "Funcion para imputar con la media"
   ]
  },
  {
   "cell_type": "code",
   "execution_count": 51,
   "id": "e8ffdb3d",
   "metadata": {},
   "outputs": [],
   "source": [
    "def imputar_media(variable):\n",
    "    if pd.api.types.is_integer_dtype(variable):\n",
    "        return(variable.fillna(int(variable.mean())))\n",
    "    else:\n",
    "        return(variable.fillna(variable.mean()))"
   ]
  },
  {
   "cell_type": "markdown",
   "id": "54407baa",
   "metadata": {},
   "source": [
    "- Imputar con la media"
   ]
  },
  {
   "cell_type": "code",
   "execution_count": 52,
   "id": "605f7ad2",
   "metadata": {},
   "outputs": [],
   "source": [
    "# num[var_imputar_media] = num[var_imputar_media].apply(imputar_media)"
   ]
  },
  {
   "cell_type": "markdown",
   "id": "649c19f3",
   "metadata": {},
   "source": [
    "- Imputar por la mediana"
   ]
  },
  {
   "cell_type": "markdown",
   "id": "d22ea297",
   "metadata": {},
   "source": [
    "Variables a imputar"
   ]
  },
  {
   "cell_type": "code",
   "execution_count": 53,
   "id": "37e4d7f6",
   "metadata": {},
   "outputs": [],
   "source": [
    "var_imputar_mediana = ['edad','num_contactos_esta_campana']"
   ]
  },
  {
   "cell_type": "markdown",
   "id": "432c371c",
   "metadata": {},
   "source": [
    "Funcion para imputar con la mediana"
   ]
  },
  {
   "cell_type": "code",
   "execution_count": 54,
   "id": "66679233",
   "metadata": {},
   "outputs": [],
   "source": [
    "def imputar_mediana(variable):\n",
    "    if pd.api.types.is_integer_dtype(variable):\n",
    "        return(variable.fillna(int(variable.median())))\n",
    "    else:\n",
    "        return(variable.fillna(variable.median()))"
   ]
  },
  {
   "cell_type": "markdown",
   "id": "70d7a1c5",
   "metadata": {},
   "source": [
    "- Imputar con la mediana"
   ]
  },
  {
   "cell_type": "code",
   "execution_count": 55,
   "id": "887a4106",
   "metadata": {},
   "outputs": [],
   "source": [
    "num[var_imputar_mediana] = num[var_imputar_mediana].apply(imputar_mediana)"
   ]
  },
  {
   "cell_type": "markdown",
   "id": "82cb56e8",
   "metadata": {},
   "source": [
    "### ATÍPICOS"
   ]
  },
  {
   "cell_type": "markdown",
   "id": "760baf8c",
   "metadata": {},
   "source": [
    "**Por desviación típica**"
   ]
  },
  {
   "cell_type": "markdown",
   "id": "4b508149",
   "metadata": {},
   "source": [
    "- Identificación"
   ]
  },
  {
   "cell_type": "markdown",
   "id": "8ceda3d3",
   "metadata": {},
   "source": [
    "Definir el número de desviaciones típicas"
   ]
  },
  {
   "cell_type": "code",
   "execution_count": 56,
   "id": "2b7419cb",
   "metadata": {},
   "outputs": [],
   "source": [
    "num_desv_tip = 4"
   ]
  },
  {
   "cell_type": "markdown",
   "id": "942da237",
   "metadata": {},
   "source": [
    "Función que devuelve los índices de los atípicos"
   ]
  },
  {
   "cell_type": "code",
   "execution_count": 57,
   "id": "8a81f494",
   "metadata": {},
   "outputs": [],
   "source": [
    "def atipicos_desv_tip(variable, num_desv_tip = 4):\n",
    "    #sacamos los nulos por ahora\n",
    "    variable = variable.dropna()\n",
    "    #calculamos los límites\n",
    "    media = np.mean(variable)\n",
    "    sd = np.std(variable)\n",
    "    umbral = sd * num_desv_tip\n",
    "    lim_inf = media - umbral\n",
    "    lim_sup = media + umbral\n",
    "    #encontramos los índices de los que están fuera de los límites\n",
    "    indices = [indice for indice,valor in variable.items() if valor < lim_inf or valor > lim_sup]\n",
    "    return(indices)"
   ]
  },
  {
   "cell_type": "markdown",
   "id": "768e7398",
   "metadata": {},
   "source": [
    "Función que cuenta el número de atípicos"
   ]
  },
  {
   "cell_type": "code",
   "execution_count": 58,
   "id": "5c8f4462",
   "metadata": {},
   "outputs": [],
   "source": [
    "def conteo_atipicos(df,variable, num_desv_tip = 4):\n",
    "    atipicos = atipicos_desv_tip(df[variable], num_desv_tip)\n",
    "    return(df.loc[atipicos,variable].value_counts())"
   ]
  },
  {
   "cell_type": "markdown",
   "id": "5cd1e425",
   "metadata": {},
   "source": [
    "Variables a aplicar"
   ]
  },
  {
   "cell_type": "code",
   "execution_count": 59,
   "id": "cfbb3d88",
   "metadata": {},
   "outputs": [],
   "source": [
    "var_atipicos_dt = ['edad','num_contactos_esta_campana']"
   ]
  },
  {
   "cell_type": "markdown",
   "id": "ac400ced",
   "metadata": {},
   "source": [
    "Aplicar"
   ]
  },
  {
   "cell_type": "code",
   "execution_count": 60,
   "id": "c4b74e98",
   "metadata": {},
   "outputs": [
    {
     "name": "stdout",
     "output_type": "stream",
     "text": [
      "\n",
      "edad:\n",
      "\n",
      "edad\n",
      "81    12\n",
      "88    11\n",
      "83     7\n",
      "82     7\n",
      "84     4\n",
      "85     3\n",
      "86     3\n",
      "91     2\n",
      "95     1\n",
      "94     1\n",
      "92     1\n",
      "87     1\n",
      "89     1\n",
      "Name: count, dtype: Int64\n",
      "\n",
      "num_contactos_esta_campana:\n",
      "\n",
      "num_contactos_esta_campana\n",
      "15    28\n",
      "17    27\n",
      "16    24\n",
      "20    21\n",
      "19    15\n",
      "21    14\n",
      "18    13\n",
      "22    10\n",
      "24     9\n",
      "23     7\n",
      "25     6\n",
      "26     6\n",
      "29     6\n",
      "27     5\n",
      "28     4\n",
      "33     3\n",
      "34     3\n",
      "43     2\n",
      "42     2\n",
      "32     2\n",
      "30     2\n",
      "35     2\n",
      "31     1\n",
      "37     1\n",
      "40     1\n",
      "39     1\n",
      "Name: count, dtype: int64\n"
     ]
    }
   ],
   "source": [
    "for variable in var_atipicos_dt:\n",
    "    print('\\n' + variable + ':\\n')\n",
    "    print(conteo_atipicos(num,variable,num_desv_tip))"
   ]
  },
  {
   "cell_type": "markdown",
   "id": "5197aae9",
   "metadata": {},
   "source": [
    "- Corrección"
   ]
  },
  {
   "cell_type": "markdown",
   "id": "2b9255dd",
   "metadata": {},
   "source": [
    "Eliminar los registros que tengan al menos un atípico en alguna de las variables indicadas."
   ]
  },
  {
   "cell_type": "markdown",
   "id": "e1233b46",
   "metadata": {},
   "source": [
    "*Cuidado: Si se eliminan registros hay que eliminarlos tanto de cat como de num*"
   ]
  },
  {
   "cell_type": "markdown",
   "id": "18548d6d",
   "metadata": {},
   "source": [
    "Variables a aplicar"
   ]
  },
  {
   "cell_type": "code",
   "execution_count": 61,
   "id": "81e715d9",
   "metadata": {},
   "outputs": [],
   "source": [
    "var_atipicos_dt = ['edad','num_contactos_esta_campana']"
   ]
  },
  {
   "cell_type": "markdown",
   "id": "b995bf77",
   "metadata": {},
   "source": [
    "Aplicar"
   ]
  },
  {
   "cell_type": "code",
   "execution_count": 62,
   "id": "413fa5ea",
   "metadata": {},
   "outputs": [],
   "source": [
    "for variable in var_atipicos_dt:\n",
    "    cat.drop(atipicos_desv_tip(num[variable], num_desv_tip),axis = 0, inplace = True)\n",
    "    num.drop(atipicos_desv_tip(num[variable], num_desv_tip),axis = 0, inplace = True)"
   ]
  },
  {
   "cell_type": "markdown",
   "id": "47862bcf",
   "metadata": {},
   "source": [
    "**Por winsorización manual para una variable** "
   ]
  },
  {
   "cell_type": "markdown",
   "id": "963a3881",
   "metadata": {},
   "source": [
    "- Identificación"
   ]
  },
  {
   "cell_type": "markdown",
   "id": "af41a20d",
   "metadata": {},
   "source": [
    "Variable a analizar"
   ]
  },
  {
   "cell_type": "code",
   "execution_count": 63,
   "id": "f90db9dc",
   "metadata": {},
   "outputs": [],
   "source": [
    "variable = 'variacion_tasa_empleo'"
   ]
  },
  {
   "cell_type": "markdown",
   "id": "e0332345",
   "metadata": {},
   "source": [
    "Comprobar el mínimo y máximo actual"
   ]
  },
  {
   "cell_type": "code",
   "execution_count": 64,
   "id": "64d5394b",
   "metadata": {},
   "outputs": [
    {
     "data": {
      "text/plain": [
       "min   -34.0\n",
       "max    14.0\n",
       "Name: variacion_tasa_empleo, dtype: float64"
      ]
     },
     "execution_count": 64,
     "metadata": {},
     "output_type": "execute_result"
    }
   ],
   "source": [
    "num[variable].describe().loc[['min','max']]"
   ]
  },
  {
   "cell_type": "markdown",
   "id": "28d07312",
   "metadata": {},
   "source": [
    "- Corrección"
   ]
  },
  {
   "cell_type": "markdown",
   "id": "fbea3a26",
   "metadata": {},
   "source": [
    "Definir el mínimo y máximo tolerable."
   ]
  },
  {
   "cell_type": "code",
   "execution_count": 65,
   "id": "c8b2d8dc",
   "metadata": {},
   "outputs": [],
   "source": [
    "minimo = -20\n",
    "maximo = 10"
   ]
  },
  {
   "cell_type": "markdown",
   "id": "be19a3d1",
   "metadata": {},
   "source": [
    "Aplicar"
   ]
  },
  {
   "cell_type": "code",
   "execution_count": 66,
   "id": "a607d0dd",
   "metadata": {},
   "outputs": [],
   "source": [
    "num[variable].clip(minimo,maximo, inplace=True)"
   ]
  },
  {
   "cell_type": "markdown",
   "id": "ec69099e",
   "metadata": {},
   "source": [
    "**Por winsorización automática para múltiples variables**"
   ]
  },
  {
   "cell_type": "markdown",
   "id": "49b8433c",
   "metadata": {},
   "source": [
    "Variables a winsorizar"
   ]
  },
  {
   "cell_type": "code",
   "execution_count": 67,
   "id": "e4b6c723",
   "metadata": {},
   "outputs": [],
   "source": [
    "var_winsorizar = ['edad','num_contactos_esta_campana']"
   ]
  },
  {
   "cell_type": "markdown",
   "id": "9478239d",
   "metadata": {},
   "source": [
    "Definir los percentiles mínimos y máximos."
   ]
  },
  {
   "cell_type": "code",
   "execution_count": 68,
   "id": "0596e25f",
   "metadata": {},
   "outputs": [],
   "source": [
    "p_min = 0.01\n",
    "p_max = 0.99"
   ]
  },
  {
   "cell_type": "markdown",
   "id": "878af32b",
   "metadata": {},
   "source": [
    "Aplicar"
   ]
  },
  {
   "cell_type": "code",
   "execution_count": 69,
   "id": "b0317b54",
   "metadata": {},
   "outputs": [],
   "source": [
    "for variable in var_winsorizar:\n",
    "    num[variable].clip(lower = num[variable].quantile(p_min), \n",
    "                       upper = num[variable].quantile(p_max), \n",
    "                       inplace = True)"
   ]
  },
  {
   "cell_type": "markdown",
   "id": "0f6b1e4a",
   "metadata": {},
   "source": [
    "### GUARDAR DATASETS TRAS CALIDAD DE DATOS"
   ]
  },
  {
   "cell_type": "markdown",
   "id": "1e211b09",
   "metadata": {},
   "source": [
    "Guarda los avances en df, cat y num con un sufijo para poder guardar o recuperar avances del proyecto.\n",
    "\n",
    "En formato pickle para no perder las modificaciones de metadatos."
   ]
  },
  {
   "cell_type": "markdown",
   "id": "abb12eef",
   "metadata": {},
   "source": [
    "- Definir los nombres de los archivos"
   ]
  },
  {
   "cell_type": "code",
   "execution_count": 70,
   "id": "f83c6f26",
   "metadata": {},
   "outputs": [],
   "source": [
    "ruta_trabajo = ruta_proyecto + '/02_Datos/03_Trabajo/' + 'trabajo_resultado_calidad.pickle'\n",
    "ruta_cat = ruta_proyecto + '/02_Datos/03_Trabajo/' + 'cat_resultado_calidad.pickle'\n",
    "ruta_num = ruta_proyecto + '/02_Datos/03_Trabajo/' + 'num_resultado_calidad.pickle'"
   ]
  },
  {
   "cell_type": "markdown",
   "id": "1699f284",
   "metadata": {},
   "source": [
    "- Guardar los archivos"
   ]
  },
  {
   "cell_type": "code",
   "execution_count": 71,
   "id": "6731887a",
   "metadata": {},
   "outputs": [],
   "source": [
    "df.to_pickle(ruta_trabajo)\n",
    "cat.to_pickle(ruta_cat)\n",
    "num.to_pickle(ruta_num)"
   ]
  }
 ],
 "metadata": {
  "kernelspec": {
   "display_name": "Python 3 (ipykernel)",
   "language": "python",
   "name": "python3"
  },
  "language_info": {
   "codemirror_mode": {
    "name": "ipython",
    "version": 3
   },
   "file_extension": ".py",
   "mimetype": "text/x-python",
   "name": "python",
   "nbconvert_exporter": "python",
   "pygments_lexer": "ipython3",
   "version": "3.11.7"
  },
  "toc": {
   "base_numbering": 1,
   "nav_menu": {},
   "number_sections": true,
   "sideBar": true,
   "skip_h1_title": false,
   "title_cell": "Table of Contents",
   "title_sidebar": "Contents",
   "toc_cell": false,
   "toc_position": {
    "height": "calc(100% - 180px)",
    "left": "10px",
    "top": "150px",
    "width": "406.5px"
   },
   "toc_section_display": true,
   "toc_window_display": true
  },
  "varInspector": {
   "cols": {
    "lenName": 16,
    "lenType": 16,
    "lenVar": 40
   },
   "kernels_config": {
    "python": {
     "delete_cmd_postfix": "",
     "delete_cmd_prefix": "del ",
     "library": "var_list.py",
     "varRefreshCmd": "print(var_dic_list())"
    },
    "r": {
     "delete_cmd_postfix": ") ",
     "delete_cmd_prefix": "rm(",
     "library": "var_list.r",
     "varRefreshCmd": "cat(var_dic_list()) "
    }
   },
   "position": {
    "height": "546.85px",
    "left": "680.75px",
    "right": "20px",
    "top": "118px",
    "width": "350px"
   },
   "types_to_exclude": [
    "module",
    "function",
    "builtin_function_or_method",
    "instance",
    "_Feature"
   ],
   "window_display": false
  }
 },
 "nbformat": 4,
 "nbformat_minor": 5
}
