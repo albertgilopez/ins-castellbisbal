{
 "cells": [
  {
   "cell_type": "markdown",
   "metadata": {},
   "source": [
    "# Clase 2: Proyecto final en grupo – Análisis de datos abiertos del festival NYS Polígon Arts\n",
    "\n",
    "Objetivo: Trabajar en grupo un proyecto de análisis de datos reales o simulados relacionados con un festival local. Cargar, limpiar, analizar y visualizar datos.\n",
    "\n",
    "**Datasets para trabajar:**\n",
    "- `asistencia_festival_sucio.csv`\n",
    "- `encuestas_festival_sucio.csv`\n",
    "\n",
    "En este notebook practicaremos:\n",
    "- Carga de datos en Pandas\n",
    "- Limpieza básica: nulos, duplicados, tipos incorrectos\n",
    "- Análisis exploratorio\n",
    "- Creación de nuevas columnas\n",
    "- Visualización de resultados\n",
    "- Documentación de hallazgos"
   ]
  },
  {
   "cell_type": "code",
   "execution_count": null,
   "metadata": {},
   "outputs": [],
   "source": [
    "# Librerías necesarias\n",
    "import pandas as pd\n",
    "import numpy as np\n",
    "import matplotlib.pyplot as plt\n",
    "%matplotlib inline\n",
    "plt.style.use('seaborn-v0_8-whitegrid')\n",
    "\n",
    "# Configuración visual\n",
    "plt.rcParams['figure.figsize'] = [10, 6]\n",
    "plt.rcParams['figure.dpi'] = 100"
   ]
  },
  {
   "cell_type": "markdown",
   "metadata": {},
   "source": [
    "## Carga de datos sucios"
   ]
  },
  {
   "cell_type": "code",
   "execution_count": null,
   "metadata": {},
   "outputs": [],
   "source": [
    "# Cargar datasets\n",
    "df_asistencia = pd.read_csv('asistencia_festival_sucio.csv')"
   ]
  },
  {
   "cell_type": "code",
   "execution_count": null,
   "metadata": {},
   "outputs": [],
   "source": [
    "\n",
    "df_encuestas = pd.read_csv('encuestas_festival_sucio.csv')"
   ]
  },
  {
   "cell_type": "code",
   "execution_count": null,
   "metadata": {},
   "outputs": [],
   "source": [
    "df_asistencia.head(), df_encuestas.head()"
   ]
  },
  {
   "cell_type": "markdown",
   "metadata": {},
   "source": [
    "## 1. Limpieza de datos – Asistencia"
   ]
  },
  {
   "cell_type": "code",
   "execution_count": null,
   "metadata": {},
   "outputs": [],
   "source": [
    "# Ver información básica\n",
    "df_asistencia.info()"
   ]
  },
  {
   "cell_type": "code",
   "execution_count": null,
   "metadata": {},
   "outputs": [],
   "source": [
    "# Eliminar duplicados\n",
    "df_asistencia = df_asistencia.drop_duplicates()"
   ]
  },
  {
   "cell_type": "code",
   "execution_count": null,
   "metadata": {},
   "outputs": [],
   "source": [
    "# Rellenar nulos en asistentes (rellenamos con la media)\n",
    "media_asistentes = df_asistencia['asistentes'].mean()\n",
    "df_asistencia['asistentes'] = df_asistencia['asistentes'].fillna(media_asistentes)"
   ]
  },
  {
   "cell_type": "code",
   "execution_count": null,
   "metadata": {},
   "outputs": [],
   "source": [
    "\n",
    "# Convertir fecha a formato datetime\n",
    "df_asistencia['fecha'] = pd.to_datetime(df_asistencia['fecha'])"
   ]
  },
  {
   "cell_type": "code",
   "execution_count": null,
   "metadata": {},
   "outputs": [],
   "source": [
    "# Resultado limpio\n",
    "df_asistencia.head()"
   ]
  },
  {
   "cell_type": "markdown",
   "metadata": {},
   "source": [
    "## 2. Limpieza de datos – Encuestas"
   ]
  },
  {
   "cell_type": "code",
   "execution_count": null,
   "metadata": {},
   "outputs": [],
   "source": [
    "# Ver información básica\n",
    "df_encuestas.info()"
   ]
  },
  {
   "cell_type": "code",
   "execution_count": null,
   "metadata": {},
   "outputs": [],
   "source": [
    "\n",
    "# Eliminar duplicados\n",
    "df_encuestas = df_encuestas.drop_duplicates()"
   ]
  },
  {
   "cell_type": "code",
   "execution_count": null,
   "metadata": {},
   "outputs": [],
   "source": [
    "\n",
    "# Rellenar nulos en satisfacción con la media\n",
    "media_satisfaccion = df_encuestas['satisfaccion'].mean()\n",
    "df_encuestas['satisfaccion'] = df_encuestas['satisfaccion'].fillna(media_satisfaccion)"
   ]
  },
  {
   "cell_type": "code",
   "execution_count": null,
   "metadata": {},
   "outputs": [],
   "source": [
    "\n",
    "# Corrección de edades: convertir strings no numéricos en NaN\n",
    "def limpiar_edad(x):\n",
    "    try:\n",
    "        return int(x)\n",
    "    except:\n",
    "        return np.nan\n",
    "\n",
    "df_encuestas['edad'] = df_encuestas['edad'].apply(limpiar_edad)\n",
    "\n",
    "# Resultado limpio\n",
    "df_encuestas.head()"
   ]
  },
  {
   "cell_type": "markdown",
   "metadata": {},
   "source": [
    "## 3. Análisis de asistencia"
   ]
  },
  {
   "cell_type": "code",
   "execution_count": null,
   "metadata": {},
   "outputs": [],
   "source": [
    "# Promedio de asistentes\n",
    "print(f\"Promedio de asistentes: {df_asistencia['asistentes'].mean():.2f}\")\n",
    "\n",
    "# Día con máxima asistencia\n",
    "dia_max = df_asistencia.loc[df_asistencia['asistentes'].idxmax()]\n",
    "print(f\"Máxima asistencia: {dia_max['asistentes']} personas el {dia_max['fecha'].strftime('%d/%m/%Y')}\")"
   ]
  },
  {
   "cell_type": "markdown",
   "metadata": {},
   "source": [
    "## 4. Visualización de asistencia"
   ]
  },
  {
   "cell_type": "code",
   "execution_count": null,
   "metadata": {},
   "outputs": [],
   "source": [
    "df_asistencia.plot(kind='line', x='fecha', y='asistentes', marker='o', color='purple')\n",
    "plt.title('Tendencia de Asistencia')\n",
    "plt.xlabel('Fecha')\n",
    "plt.ylabel('Asistentes')\n",
    "plt.xticks(rotation=45)\n",
    "plt.tight_layout()\n",
    "plt.show()"
   ]
  },
  {
   "cell_type": "markdown",
   "metadata": {},
   "source": [
    "## 5. Análisis de satisfacción del público"
   ]
  },
  {
   "cell_type": "code",
   "execution_count": null,
   "metadata": {},
   "outputs": [],
   "source": [
    "# Satisfacción media general\n",
    "print(f\"Satisfacción media: {df_encuestas['satisfaccion'].mean():.2f}\")\n",
    "\n",
    "# Agrupación por edades (tramos)\n",
    "df_encuestas['grupo_edad'] = pd.cut(df_encuestas['edad'], bins=[0, 24, 34, 44, 54, 100], labels=['18-24','25-34','35-44','45-54','55+'])\n",
    "satisfaccion_por_edad = df_encuestas.groupby('grupo_edad')['satisfaccion'].mean()\n",
    "\n",
    "satisfaccion_por_edad.plot(kind='bar', color='skyblue')\n",
    "plt.title('Satisfacción media por grupo de edad')\n",
    "plt.xlabel('Grupo de Edad')\n",
    "plt.ylabel('Satisfacción Media')\n",
    "plt.xticks(rotation=45)\n",
    "plt.tight_layout()\n",
    "plt.show()"
   ]
  },
  {
   "cell_type": "markdown",
   "metadata": {},
   "source": [
    "## 6. Ejercicios prácticos abiertos\n",
    "\n",
    "Ahora que hemos trabajado los datos, resuelve los siguientes ejercicios en grupo."
   ]
  },
  {
   "cell_type": "markdown",
   "metadata": {},
   "source": [
    "### Ejercicio 1: Crear una columna 'asistencia_categoria' en el DataFrame de asistencia\n",
    "\n",
    "- Si asistentes > 500, valor = 'Alta'\n",
    "- Si asistentes entre 300 y 500, valor = 'Media'\n",
    "- Si asistentes < 300, valor = 'Baja'\n",
    "\n",
    "Después, muestra cuántos días hubo de cada categoría."
   ]
  },
  {
   "cell_type": "code",
   "execution_count": null,
   "metadata": {},
   "outputs": [],
   "source": [
    "# Tu código aquí\n"
   ]
  },
  {
   "cell_type": "markdown",
   "metadata": {},
   "source": [
    "### Ejercicio 2: ¿Qué día de la semana tuvo en promedio más asistentes?\n",
    "\n",
    "Agrupa por 'dia_semana' y muestra el día más concurrido en promedio."
   ]
  },
  {
   "cell_type": "code",
   "execution_count": null,
   "metadata": {},
   "outputs": [],
   "source": [
    "# Tu código aquí\n"
   ]
  },
  {
   "cell_type": "markdown",
   "metadata": {},
   "source": [
    "### Ejercicio 3: Analizar satisfacción por sexo (nivel opcional si da tiempo)\n",
    "\n",
    "Suponiendo que agregamos una columna 'sexo' al dataset de encuestas (por ejemplo aleatoriamente hombre/mujer), analiza:\n",
    "- La satisfacción media de hombres y mujeres.\n",
    "- Muestra el resultado en un gráfico de barras."
   ]
  },
  {
   "cell_type": "code",
   "execution_count": null,
   "metadata": {},
   "outputs": [],
   "source": [
    "# Tu código aquí (puedes crear una columna ficticia si quieres)\n"
   ]
  },
  {
   "cell_type": "markdown",
   "metadata": {},
   "source": [
    "### Ejercicio 4: Extra Challenge 🚀\n",
    "\n",
    "Crear un gráfico de dispersión que muestre la relación entre edad y satisfacción.\n",
    "\n",
    "- ¿Hay alguna tendencia visual?\n",
    "- Agrega etiquetas y título."
   ]
  },
  {
   "cell_type": "code",
   "execution_count": null,
   "metadata": {},
   "outputs": [],
   "source": [
    "# Tu código aquí\n"
   ]
  }
 ],
 "metadata": {
  "kernelspec": {
   "display_name": "Python 3 (ipykernel)",
   "language": "python",
   "name": "python3"
  },
  "language_info": {
   "codemirror_mode": {
    "name": "ipython",
    "version": 3
   },
   "file_extension": ".py",
   "mimetype": "text/x-python",
   "name": "python",
   "nbconvert_exporter": "python",
   "pygments_lexer": "ipython3",
   "version": "3.12.5"
  }
 },
 "nbformat": 4,
 "nbformat_minor": 4
}
