{
 "cells": [
  {
   "cell_type": "markdown",
   "metadata": {},
   "source": [
    "## EJERCICIO DE CREAR UNA MINI-AGENDA"
   ]
  },
  {
   "cell_type": "markdown",
   "metadata": {},
   "source": [
    "En este ejercicio vamos a hacer uno de los casos más típicos cuando uno está aprendiendo a programar, crear una mini-agenda de teléfonos.\n",
    "\n",
    "Además de practicar y consolidar lo aprendido te permitirá darte cuenta de realmente el tipo diferente de programas que ya puedes hacer combinando de forma diferente todas las piezas del \"puzzle\" (funciones y sintaxis de Python) que sabes.\n",
    "\n",
    "Si ya te sientes medianamente confiado te animo a que en este caso hagas un primer intento por tu cuenta de resolver este caso sin ver primero la solución.\n",
    "\n",
    "Este es el diseño de lo que queremos que haga el programa en este caso:\n",
    "\n",
    "1. Crear un diccionario vacío al iniciarse\n",
    "2. Mostrar un menú al usuario que le permita elegir entre: crear, modificar o eliminar un registro, o salir del programa\n",
    "3. Resolver esa acción que ha eligido el usuario y después volver al menú principal (salvo que haya elegido salir en cuyo caso el programa termina)\n",
    "4. Si ha elegido crear, el programa preguntará el nombre y el teléfono y lo añadirá al diccionario siendo el nombre la clave y el teléfono el valor\n",
    "5. Si ha elegido borrar, el programa pedirá un nombre y borrará ese registro de la agenda\n",
    "6. Si ha elegido modificar, el programa preguntará el nombre y el teléfono, buscará ese nombre en la agenda y modificará su valor (el teléfono)"
   ]
  },
  {
   "cell_type": "markdown",
   "metadata": {},
   "source": [
    "En este caso te recomiendo sacar como funciones los procesos de crear, modificar y borrar usuarios, y dejar el resto de la lógica en la parte principal del programa.\n",
    "\n",
    "Vamos a por ello!"
   ]
  },
  {
   "cell_type": "markdown",
   "metadata": {},
   "source": [
    "**PASO 1:**\n",
    "\n",
    "Crea un diccionario vacío llamado agenda y define, siguiendo el diseño indicado, funciones para:\n",
    "\n",
    "* Crear un registro\n",
    "\n",
    "* Borrar un registro\n",
    "\n",
    "* Modificar un registro"
   ]
  },
  {
   "cell_type": "code",
   "execution_count": null,
   "metadata": {},
   "outputs": [],
   "source": [
    "# Crea un diccionario vacío que se llame agenda"
   ]
  },
  {
   "cell_type": "code",
   "execution_count": null,
   "metadata": {},
   "outputs": [],
   "source": [
    "def crear_registro():\n",
    "    # Pedimos al usuario que introduzca el nombre de la persona\n",
    "    # La función input() nos permite recoger texto del usuario\n",
    "    ...\n",
    "    \n",
    "    # Pedimos al usuario que introduzca el teléfono\n",
    "    ...\n",
    "    \n",
    "    # Añadimos el nuevo contacto a la agenda\n",
    "    # Usamos el nombre como clave (key) y el teléfono como valor (value)\n",
    "    # La sintaxis es: diccionario[clave] = valor\n",
    "    ..."
   ]
  },
  {
   "cell_type": "code",
   "execution_count": null,
   "metadata": {},
   "outputs": [],
   "source": [
    "def borrar_registro():\n",
    "    # Pedimos al usuario que introduzca el nombre del contacto que quiere borrar\n",
    "    ...\n",
    "    \n",
    "    # Utilizamos la palabra clave 'del' para eliminar el contacto de la agenda\n",
    "    # La sintaxis es: del diccionario[clave]\n",
    "    ...\n",
    "    \n",
    "    # Mostramos un mensaje de confirmación al usuario\n",
    "    print('Borrado con éxito!')"
   ]
  },
  {
   "cell_type": "code",
   "execution_count": null,
   "metadata": {},
   "outputs": [],
   "source": [
    "def modificar_registro():\n",
    "    # Pedimos al usuario que introduzca el nombre del contacto que quiere modificar\n",
    "    ...\n",
    "    \n",
    "    # Pedimos al usuario que introduzca el nuevo número de teléfono\n",
    "    ...\n",
    "    \n",
    "    # Actualizamos el valor (teléfono) asociado a la clave (nombre) en el diccionario\n",
    "    # La sintaxis es: diccionario[clave] = nuevo_valor\n",
    "    ...\n",
    "    \n",
    "    # Mostramos un mensaje de confirmación al usuario\n",
    "    print('Contacto modificado con éxito!')"
   ]
  },
  {
   "cell_type": "markdown",
   "metadata": {},
   "source": [
    "**PASO 2:**\n",
    "\n",
    "Crea la lógica principal del programa donde se muestre un menú con las siguientes opciones que estará activo y funcionando hasta que el usuario elija la opción de Salir:\n",
    "\n",
    "1. Crear un nuevo registro\n",
    "2. Modificar un registro existente\n",
    "3. Eliminar un registro\n",
    "4. Salir"
   ]
  },
  {
   "cell_type": "code",
   "execution_count": null,
   "metadata": {},
   "outputs": [],
   "source": [
    "opcion = 0\n",
    "while opcion != 4:\n",
    "    print('1. Crear un nuevo registro')\n",
    "    print('2. Modificar un registro existente')\n",
    "    print('3. Eliminar un registro')\n",
    "    print('4. Salir')\n",
    "    opcion = int(input('Qué quieres hacer: '))\n",
    "    if opcion == 1: crear_registro()\n",
    "    elif opcion == 2: modificar_registro()\n",
    "    elif opcion == 3: borrar_registro() \n",
    "    print('\\n\\n')"
   ]
  },
  {
   "cell_type": "markdown",
   "metadata": {},
   "source": [
    "**PASO 3:**\n",
    "\n",
    "Crea, modifica y borra unos cuantos registros, y cuando hayas terminado y elegido salir imprime la agenda por consola y comprueba el resultado."
   ]
  },
  {
   "cell_type": "code",
   "execution_count": null,
   "metadata": {},
   "outputs": [],
   "source": [
    "agenda"
   ]
  }
 ],
 "metadata": {
  "kernelspec": {
   "display_name": "Python 3",
   "language": "python",
   "name": "python3"
  },
  "language_info": {
   "codemirror_mode": {
    "name": "ipython",
    "version": 3
   },
   "file_extension": ".py",
   "mimetype": "text/x-python",
   "name": "python",
   "nbconvert_exporter": "python",
   "pygments_lexer": "ipython3",
   "version": "3.9.1"
  },
  "toc": {
   "base_numbering": 1,
   "nav_menu": {},
   "number_sections": true,
   "sideBar": true,
   "skip_h1_title": false,
   "title_cell": "Table of Contents",
   "title_sidebar": "Contents",
   "toc_cell": false,
   "toc_position": {},
   "toc_section_display": true,
   "toc_window_display": false
  },
  "varInspector": {
   "cols": {
    "lenName": 16,
    "lenType": 16,
    "lenVar": 40
   },
   "kernels_config": {
    "python": {
     "delete_cmd_postfix": "",
     "delete_cmd_prefix": "del ",
     "library": "var_list.py",
     "varRefreshCmd": "print(var_dic_list())"
    },
    "r": {
     "delete_cmd_postfix": ") ",
     "delete_cmd_prefix": "rm(",
     "library": "var_list.r",
     "varRefreshCmd": "cat(var_dic_list()) "
    }
   },
   "types_to_exclude": [
    "module",
    "function",
    "builtin_function_or_method",
    "instance",
    "_Feature"
   ],
   "window_display": false
  }
 },
 "nbformat": 4,
 "nbformat_minor": 4
}
